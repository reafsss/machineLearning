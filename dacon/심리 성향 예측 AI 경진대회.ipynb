{
 "cells": [
  {
   "cell_type": "markdown",
   "metadata": {},
   "source": [
    "# 심리 성향 예측 AI 경진대회\n",
    "\n",
    "## 주제\n",
    "    심리학 테스트 분석 알고리즘 개발\n",
    "\n",
    "## 배경\n",
    "    심리학 테스트의 범주가 넓어짐에 따라 해당 영역의 데이터 분석 방법 탐구\n",
    "    국가 선거 투표자/미투표자의 심리학적 성향을 분석\n",
    "\n",
    "## 대회설명\n",
    "    마키아벨리즘 심리테스트를 활용하여 테스트 참가자의 국가 선거 투표 여부 예측\n",
    "    \n",
    "## 평가\n",
    "    심사 기준: AUC\n",
    "\n",
    "## 데이터\n",
    "    index\n",
    "    Q_A / Q_E (a~t) 비식별화를 위해 일부 질문은 Secret 처리\n",
    "    Qa : Secret\n",
    "    Qb : The biggest difference between most criminals and other people is that the criminals are stupid enough to get caught.\n",
    "    Qc : Anyone who completely trusts anyone else is asking for trouble.\n",
    "    Qd : Secret\n",
    "    Qe : P.T. Barnum was wrong when he said that there's a sucker born every minute.\n",
    "    Qf : There is no excuse for lying to someone else.\n",
    "    Qg : Secret\n",
    "    Qh : Most people forget more easily the death of their parents than the loss of their property.\n",
    "    Qi : Secret\n",
    "    Qj : It is safest to assume that all people have a vicious streak and it will come out when they are given a chance.\n",
    "    Qk : All in all, it is better to be humble and honest than to be important and dishonest.\n",
    "    Ql : Secret\n",
    "    Qm : It is hard to get ahead without cutting corners here and there.\n",
    "    Qn : Secret\n",
    "    Qo : The best way to handle people is to tell them what they want to hear.\n",
    "    Qp : Secret\n",
    "    Qq : Most people are basically good and kind.\n",
    "    Qr : One should take action only when sure it is morally right.\n",
    "    Qs : It is wise to flatter important people.\n",
    "    Qt : Secret\n",
    "    (1=Disagree, 2=Slightly disagree, 3=Neutral, 4=Slightly agree, 5=Agree)\n",
    "    \n",
    "    Q_E(a~t) : 질문을 답할 때까지의 시간\n",
    "    age_group : 연령\n",
    "    education : 교육 수준\n",
    "    (1=Less than high school, 2=High school, 3=University degree, 4=Graduate degree, 0=무응답)\n",
    "    engnat : 모국어가 영어\n",
    "    (1=Yes, 2=No, 0=무응답)\n",
    "    familysize : 형제자매 수\n",
    "    gender : 성별\n",
    "    (Male, Female)\n",
    "    hand : 필기하는 손\n",
    "    (1=Right, 2=Left, 3=Both, 0=무응답)\n",
    "    married : 혼인 상태\n",
    "    (1=Never married, 2=Currently married, 3=Previously married, 0=Other)\n",
    "    race : 인종\n",
    "    (Asian, Arab, Black, Indigenous Australian, Native American, White, Other)\n",
    "    religion : 종교\n",
    "    (Agnostic, Atheist, Buddhist, Christian_Catholic, Christian_Mormon, Christian_Protestant, Christian_Other, Hindu, Jewish, Muslim, Sikh, Other)\n",
    "    tp__(01~07) : items were rated \"I see myself as:\" _____ such that\n",
    "    (tp01 : Extraverted, enthusiastic.\n",
    "    tp02 : Critical, quarrelsome.\n",
    "    tp03 : Dependable, self-disciplined.\n",
    "    tp04 : Anxious, easily upset.\n",
    "    tp05 : Open to new experiences, complex.\n",
    "    tp06 : Reserved, quiet.\n",
    "    tp07 : Sympathetic, warm.\n",
    "    tp08 : Disorganized, careless.\n",
    "    tp09 : Calm, emotionally stable.\n",
    "    tp10 : Conventional, uncreative.)\n",
    "\t\t\t\t\t\t\t\t\n",
    "\n",
    "\t**순서형 변수**\n",
    "    urban : 유년기의 거주 구역\n",
    "    (1=Rural (country side), 2=Suburban, 3=Urban (town, city), 0=무응답)\n",
    "    wr_(01~13) : 실존하는 해당 단어의 정의을 앎\n",
    "    (1=Yes, 0=No)\n",
    "    wf_(01~03) : 허구인 단어의 정의를 앎\n",
    "    (1=Yes, 0=No)\n",
    "    \n",
    "    **Target**\n",
    "    voted (타겟): 지난 해 국가 선거 투표 여부\n",
    "    1=Yes, 2=No"
   ]
  },
  {
   "cell_type": "code",
   "execution_count": null,
   "metadata": {},
   "outputs": [],
   "source": []
  },
  {
   "cell_type": "code",
   "execution_count": null,
   "metadata": {},
   "outputs": [],
   "source": []
  },
  {
   "cell_type": "code",
   "execution_count": null,
   "metadata": {},
   "outputs": [],
   "source": []
  },
  {
   "cell_type": "code",
   "execution_count": null,
   "metadata": {},
   "outputs": [],
   "source": []
  },
  {
   "cell_type": "code",
   "execution_count": null,
   "metadata": {},
   "outputs": [],
   "source": []
  },
  {
   "cell_type": "code",
   "execution_count": null,
   "metadata": {},
   "outputs": [],
   "source": []
  },
  {
   "cell_type": "code",
   "execution_count": null,
   "metadata": {},
   "outputs": [],
   "source": []
  },
  {
   "cell_type": "code",
   "execution_count": null,
   "metadata": {},
   "outputs": [],
   "source": []
  },
  {
   "cell_type": "code",
   "execution_count": null,
   "metadata": {},
   "outputs": [],
   "source": []
  },
  {
   "cell_type": "code",
   "execution_count": null,
   "metadata": {},
   "outputs": [],
   "source": []
  },
  {
   "cell_type": "code",
   "execution_count": null,
   "metadata": {},
   "outputs": [],
   "source": []
  }
 ],
 "metadata": {
  "kernelspec": {
   "display_name": "Python 3",
   "language": "python",
   "name": "python3"
  },
  "language_info": {
   "codemirror_mode": {
    "name": "ipython",
    "version": 3
   },
   "file_extension": ".py",
   "mimetype": "text/x-python",
   "name": "python",
   "nbconvert_exporter": "python",
   "pygments_lexer": "ipython3",
   "version": "3.8.5"
  },
  "toc": {
   "base_numbering": 1,
   "nav_menu": {},
   "number_sections": true,
   "sideBar": true,
   "skip_h1_title": false,
   "title_cell": "Table of Contents",
   "title_sidebar": "Contents",
   "toc_cell": false,
   "toc_position": {},
   "toc_section_display": true,
   "toc_window_display": false
  },
  "varInspector": {
   "cols": {
    "lenName": 16,
    "lenType": 16,
    "lenVar": 40
   },
   "kernels_config": {
    "python": {
     "delete_cmd_postfix": "",
     "delete_cmd_prefix": "del ",
     "library": "var_list.py",
     "varRefreshCmd": "print(var_dic_list())"
    },
    "r": {
     "delete_cmd_postfix": ") ",
     "delete_cmd_prefix": "rm(",
     "library": "var_list.r",
     "varRefreshCmd": "cat(var_dic_list()) "
    }
   },
   "types_to_exclude": [
    "module",
    "function",
    "builtin_function_or_method",
    "instance",
    "_Feature"
   ],
   "window_display": false
  }
 },
 "nbformat": 4,
 "nbformat_minor": 4
}
